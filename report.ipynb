{
 "cells": [
  {
   "cell_type": "markdown",
   "source": [
    "# PC6432 Project Report - Kapitza's Pendulum\n",
    "## By Su Zhengchong and Jordan Kai-Wei Yeo"
   ],
   "metadata": {
    "collapsed": false
   },
   "id": "9348bf063677d1a7"
  },
  {
   "cell_type": "markdown",
   "source": [
    "### Description of Kapitza's Pendulum\n",
    "Kapitza's Pendulum is a bob attached to a oscillating pivot using a rigid rod. When the oscillation meets certain conditions, the bob would have 2 points of stable equilibrium, one directly above the pivot and one directly below. This project aims to investigate how the pendulum would behave under various conditions."
   ],
   "metadata": {
    "collapsed": false
   },
   "id": "be83768b207a9f0e"
  },
  {
   "cell_type": "markdown",
   "source": [
    "### Main Parameters investigated\n",
    "Rate of oscillation of the pivot, amplitude of oscillation of the pivot, initial phase of the pendulum. "
   ],
   "metadata": {
    "collapsed": false
   },
   "id": "c1bacb20df51a92a"
  },
  {
   "cell_type": "markdown",
   "source": [],
   "metadata": {
    "collapsed": false
   },
   "id": "834b0444ec3df382"
  }
 ],
 "metadata": {
  "kernelspec": {
   "display_name": "Python 3",
   "language": "python",
   "name": "python3"
  },
  "language_info": {
   "codemirror_mode": {
    "name": "ipython",
    "version": 2
   },
   "file_extension": ".py",
   "mimetype": "text/x-python",
   "name": "python",
   "nbconvert_exporter": "python",
   "pygments_lexer": "ipython2",
   "version": "2.7.6"
  }
 },
 "nbformat": 4,
 "nbformat_minor": 5
}
