{
 "cells": [
  {
   "cell_type": "markdown",
   "source": [
    "# PC6432 Project Report - Kapitza's Pendulum\n",
    "## By Su Zhengchong and Jordan Kai-Wei Yeo"
   ],
   "metadata": {
    "collapsed": false
   },
   "id": "9348bf063677d1a7"
  },
  {
   "cell_type": "markdown",
   "source": [
    "### Description of Kapitza's Pendulum\n",
    "Kapitza's Pendulum is a bob attached to a oscillating pivot using a rigid rod. When the oscillation meets certain conditions, the bob would have 2 points of stable equilibrium, one directly above the pivot and one directly below. This project aims to investigate how the pendulum would behave under various conditions."
   ],
   "metadata": {
    "collapsed": false
   },
   "id": "be83768b207a9f0e"
  },
  {
   "cell_type": "markdown",
   "source": [
    "### Symbols used for parameters/state of system\n",
    "$ \\varphi $ - angle between the bob and the vertical line below the pivot\n",
    "$ a $ - max amplitude of oscillation of pivot\n",
    "$ l $ - length of rod between bob and pivot\n",
    "$ \\nu $ - angular frequency of oscillation of pivot\n",
    "$ g $ - gravitation acceleration\n",
    "$ \\varphi_0 $ - initial phase of the bob\n",
    "$ \\theta_0 $ - initial phase of the pivot"
   ],
   "metadata": {
    "collapsed": false
   },
   "id": "2281fa7da00f2d6d"
  },
  {
   "cell_type": "markdown",
   "source": [
    "### Parameters investigated\n",
    "$ \\nu, \\varphi_0, a $"
   ],
   "metadata": {
    "collapsed": false
   },
   "id": "c1bacb20df51a92a"
  },
  {
   "cell_type": "markdown",
   "source": [
    "### Fixed Parameters\n",
    "The pivot oscillates vertically according to an SHM, $ g = 9.81m/s^2 $, mass of pendulum does not matter as how the system evolves is independent of the mass, set to 1kg for ease of calculation. $ l = 1m, \\theta_0 = 0 $"
   ],
   "metadata": {
    "collapsed": false
   },
   "id": "834b0444ec3df382"
  },
  {
   "cell_type": "markdown",
   "source": [
    "### Equations of motion using Lagragian mechanics\n",
    "\\begin{align*}\n",
    "    x &= l \\sin{\\varphi} \\\\\n",
    "    y &= -(l \\cos{\\varphi} + a \\cos{\\nu t}) \\\\\n",
    "    E_{pot} &= mgy = -mg(l \\cos{\\varphi} + a \\cos{\\nu t}) \\\\\n",
    "    E_{kin} &= \\frac{1}{2}m\\left(\\left(\\frac{dx}{dt}\\right)^2 + \\left(\\frac{dy}{dt}\\right)^2\\right) \\\\\n",
    "    E_{kin} &= m\\left(\\frac{(l\\dot\\varphi)^2}{2} + al\\nu\\sin{(\\nu t)}\\sin{(\\varphi)}\\dot\\varphi + \\frac{(a\\nu\\sin{(\\nu t)})^2}{2}\\right) \\\\\n",
    "    L &= K - U = m\\left(\\frac{(l\\dot\\varphi)^2}{2} + al\\nu\\sin{(\\nu t)}\\sin{(\\varphi)}\\dot\\varphi + \\frac{(a\\nu\\sin{(\\nu t)})^2}{2} + g(l\\cos{\\varphi} + a \\cos{\\nu t})\\right) \\\\\n",
    "    &\\text{Since system is closed, L is non-time dependent} \\\\\n",
    "    L &= m\\left(\\frac{(l\\dot\\varphi)^2}{2} + al\\nu\\sin{(\\nu t)}\\sin{(\\varphi)}\\dot\\varphi + gl\\cos{\\varphi}\\right) \\\\\n",
    "    \\frac{d}{dt}\\frac{\\partial L}{\\partial \\dot\\varphi} &= \\frac{\\partial L}{\\partial \\varphi} \\\\\n",
    "    \\ddot\\varphi &= -(g + a\\nu^2\\cos{\\nu t})\\frac{\\sin{\\nu}}{l} \\\\\n",
    "    \\frac{d}{dt}\\dot\\varphi &= -(g + a\\nu^2\\cos{\\nu t})\\frac{\\sin{\\nu}}{l} \\\\\n",
    "    \\dot\\varphi &= \\frac{d}{dt}\\varphi \\\\\n",
    "\\end{align*}"
   ],
   "metadata": {
    "collapsed": false
   },
   "id": "3a5362d7ca583c99"
  },
  {
   "cell_type": "code",
   "execution_count": null,
   "outputs": [],
   "source": [],
   "metadata": {
    "collapsed": false
   },
   "id": "b0447508d73e6a27"
  }
 ],
 "metadata": {
  "kernelspec": {
   "display_name": "Python 3",
   "language": "python",
   "name": "python3"
  },
  "language_info": {
   "codemirror_mode": {
    "name": "ipython",
    "version": 2
   },
   "file_extension": ".py",
   "mimetype": "text/x-python",
   "name": "python",
   "nbconvert_exporter": "python",
   "pygments_lexer": "ipython2",
   "version": "2.7.6"
  }
 },
 "nbformat": 4,
 "nbformat_minor": 5
}
